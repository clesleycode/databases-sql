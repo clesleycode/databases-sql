{
 "cells": [
  {
   "cell_type": "markdown",
   "metadata": {},
   "source": [
    "## Background\n",
    "\n",
    "### What is a database?\n",
    "\n",
    "#### What is a relational database?\n",
    "\n",
    " A relational database is a database that organizes information into one or more tables. \n",
    "\n",
    "#### What is a table? \n",
    "\n",
    "A table is a collection of data organized into rows and columns. Tables are sometimes referred to as relations.\n",
    "\n",
    "\n",
    "### What is a clause?\n",
    "\n",
    "Clauses perform specific tasks in SQL. By convention, clauses are written in capital letters. Clauses can also be referred to as commands.\n",
    "\n",
    "### What is a schema?\n"
   ]
  },
  {
   "cell_type": "markdown",
   "metadata": {},
   "source": [
    "## SQL\n",
    "\n",
    "\n",
    "### What is SQL? \n",
    "\n",
    "\n",
    "### Building a Database\n",
    "\n",
    "The structure of SQL statements vary. The number of lines used do not matter. A statement can be written all on one line, or split up across multiple lines if it makes it easier to read. In this course, you will become familiar with the structure of common statements."
   ]
  },
  {
   "cell_type": "markdown",
   "metadata": {},
   "source": [
    "``` SQL\n",
    "CREATE TABLE table_name (\n",
    "    column_1 data_type, \n",
    "    column_2 data_type, \n",
    "    column_3 data_type\n",
    "  );\n",
    "```"
   ]
  },
  {
   "cell_type": "markdown",
   "metadata": {},
   "source": [
    "### Inserting\n",
    "\n",
    "`INSERT INTO` is a clause that adds the specified row or rows. "
   ]
  },
  {
   "cell_type": "markdown",
   "metadata": {},
   "source": [
    "``` SQL\n",
    "INSERT INTO table (id, name, age) VALUES (1, 'Lesley Cordero', 25);\n",
    "```"
   ]
  },
  {
   "cell_type": "markdown",
   "metadata": {},
   "source": [
    "### Selecting\n",
    "\n",
    "``` SQL\n",
    "SELECT * FROM celebs;\n",
    "```\n",
    "`SELECT` statements are used to fetch data from a database. `SELECT` is a clause that indicates that the statement is a query. You will use `SELECT` every time you query data from a database. `SELECT` statements always return a new table called the result set. We can also rename the columns we want to show with `AS`.\n",
    "\n",
    "`*` is a special wildcard character that we have been using. It allows you to select every column in a table without having to name each one individually. Here, the result set contains every column in the celebs table.\n"
   ]
  },
  {
   "cell_type": "markdown",
   "metadata": {},
   "source": [
    "### Updating\n",
    "\n",
    "The `UPDATE` statement edits a row in the table. You can use the UPDATE statement when you want to change existing records. `SET` is a clause that indicates the column to edit. WHERE is a clause that indicates which row(s) to update with the new column value.\n",
    "\n",
    "The `ALTER TABLE` statement added a new column to the table. You can use this command when you want to add columns to a table. `ADD COLUMN` is a clause that lets you add a new column to a table. \n",
    "\n",
    "### Deleting\n",
    "\n",
    "The `DELETE` FROM statement deletes one or more rows from a table. You can use the statement when you want to delete existing records.\n",
    "\n",
    "### Null\n",
    "\n",
    "`NULL` is a special value in SQL that represents missing or unknown data. Here, the rows that existed before the column was added have NULL values for twitter_handle\n",
    "\n",
    "### Aggregations\n",
    "\n",
    "Aggregations are used to convert many rows into a single row. Almost all aggregations come with the `GROUP BY` statement, which converts the table otherwise returned by the query into groups of tables. Each group corresponds to a unique value (or group of values) of columns which we specify in the GROUP BY statement.\n",
    "\n",
    "### Subqueries \n",
    "\n",
    "Subqueries are regular SQL queries that are embedded inside larger queries. There are 3 different types of subqueries, based on what they return -\n",
    "\n",
    "\n",
    "#### 2D Table \n",
    "\n",
    "#### 1D Array\n",
    "\n",
    "#### Single Values"
   ]
  },
  {
   "cell_type": "markdown",
   "metadata": {},
   "source": [
    "## Relationships\n",
    "\n",
    "### One to One\n",
    "\n",
    "* A row in a table has a relationship with another row in another table. \n",
    "* This relationship works both ways between the two tables. Each row can have a connection only with one other row from another table. \n",
    "\n",
    "### One to Many\n",
    "\n",
    "* A row in one table can have a connection with multiple rows in another table\n",
    "* In reverse, multiple rows in a table can be connected to the same row in another table\n"
   ]
  },
  {
   "cell_type": "markdown",
   "metadata": {},
   "source": [
    "### Foriegn Keys\n",
    "\n",
    "Foreign Keys are a fundamental component of SQL that allows us to reference one table from another. Foreign Keys are stored as an additional column and is usually entered in the child table and will reference the parent table.\n"
   ]
  },
  {
   "cell_type": "markdown",
   "metadata": {
    "collapsed": true
   },
   "source": [
    "### Constraints\n",
    "\n",
    "``` SQL\n",
    "CREATE TABLE Reserves\n",
    "    ( sname CHAR(10),\n",
    "    bid INTEGER,\n",
    "    day DATE,\n",
    "    PRIMARY KEY(bid, day),\n",
    "    CONSTRAINT noInterlakeRes\n",
    "    CHECK (`Interlake` <> \n",
    "        (SELECT B.bname\n",
    "        FROM Boats B\n",
    "        WHERE B.bid = bid))))\n",
    "```"
   ]
  },
  {
   "cell_type": "markdown",
   "metadata": {},
   "source": [
    "can be named"
   ]
  },
  {
   "cell_type": "markdown",
   "metadata": {},
   "source": [
    "### Constraints Over Multiple Relations\n",
    "\n",
    "``` SQL\n",
    "CREATE TABLE Sailors\n",
    "    ( sid INTEGER,\n",
    "    sname CHAR(10),\n",
    "    rating INTEGER,\n",
    "    age REAL,\n",
    "    PRIMARY KEY (sid),\n",
    "    CHECK\n",
    "    ( (SELECT COUNT (S.sid) FROM Sailors S)\n",
    "    + (SELECT COUNT (B.bid) FROM Boats B) < 100 )\n",
    "```"
   ]
  },
  {
   "cell_type": "markdown",
   "metadata": {},
   "source": [
    "### Assertions"
   ]
  },
  {
   "cell_type": "markdown",
   "metadata": {},
   "source": [
    "``` SQL\n",
    "CREATE ASSERTION smallClub\n",
    "CHECK\n",
    "( (SELECT COUNT (S.sid) FROM Sailors S)\n",
    "+ (SELECT COUNT (B.bid) FROM Boats B) < 100)\n",
    "```"
   ]
  },
  {
   "cell_type": "markdown",
   "metadata": {},
   "source": [
    "#### Enforcing Total Participation\n",
    "\n",
    "``` SQL\n",
    "CREATE ASSERTION BusySailors\n",
    "CHECK (\n",
    "    NOT EXISTS (\n",
    "        SELECT sid FROM Sailors\n",
    "        WHERE sid NOT IN (\n",
    "            SELECT sid FROM Reserves)\n",
    "       )\n",
    ")\n",
    "```"
   ]
  },
  {
   "cell_type": "markdown",
   "metadata": {},
   "source": [
    "### Triggers\n",
    "\n",
    "A procedure that starts automatically when a specified change occurs, such as INSERT, UPDATE, DELETE."
   ]
  },
  {
   "cell_type": "markdown",
   "metadata": {},
   "source": [
    "Three Parts:\n",
    "    1. Event\n",
    "    2. Condition (Optional) \n",
    "    3. Action (Trigger Procedure/Function)\n"
   ]
  },
  {
   "cell_type": "markdown",
   "metadata": {},
   "source": [
    "#### Row Level Triggers\n",
    "\n",
    "Invoked once for each row affected by the triggering statement. "
   ]
  },
  {
   "cell_type": "markdown",
   "metadata": {},
   "source": [
    "#### Statement Level Trigger\n",
    "\n",
    "Invoked only once regardless of the number of rows affected. "
   ]
  },
  {
   "cell_type": "markdown",
   "metadata": {},
   "source": [
    "Triggers may fire before or after a change occurs. Could also be asynchronous or deferred. \n",
    "\n",
    "If there exists a condition, it needs to be true for the trigger to fire."
   ]
  },
  {
   "cell_type": "markdown",
   "metadata": {},
   "source": [
    "## Privileges\n",
    "\n",
    "GRANT and REVOKE\n",
    "\n",
    "Authorization Graph -- nodes are users, arcs are privileges"
   ]
  },
  {
   "cell_type": "markdown",
   "metadata": {},
   "source": [
    "## Transactions\n",
    "\n",
    "series or list of actions. they can consist of reads or writes of DB objects. \n",
    "\n",
    "RT(O) is for reading, WT(O) is for writing. \n",
    "\n",
    "Transactions must specificy whether the final action is a commit or abort. "
   ]
  },
  {
   "cell_type": "markdown",
   "metadata": {},
   "source": [
    "## Schedules\n",
    "\n",
    "list of actions from a set of transactions. it represents an actual or potential execution sequence. "
   ]
  },
  {
   "cell_type": "markdown",
   "metadata": {
    "collapsed": true
   },
   "source": [
    "### Relational Algebra\n",
    "\n",
    "Selection (σ)\n",
    "\n",
    "Natural join (⋈)\n",
    "\n",
    "Projection (Π)\n",
    "\n",
    "- Example: Π(Age, Weight) Person \n",
    "\n",
    "Rename (ρ)"
   ]
  },
  {
   "cell_type": "markdown",
   "metadata": {
    "collapsed": true
   },
   "source": [
    "## SQLAlchemy\n",
    "\n",
    "Engine: common interface to database from SQLAlchemy"
   ]
  },
  {
   "cell_type": "code",
   "execution_count": null,
   "metadata": {
    "collapsed": true
   },
   "outputs": [],
   "source": [
    "from sqlalchemy import create_engine\n",
    "engine = create_engine('')\n",
    "connection = engine.connect()"
   ]
  },
  {
   "cell_type": "markdown",
   "metadata": {},
   "source": [
    "### Connection strings\n",
    "\n",
    "database driver + filename"
   ]
  },
  {
   "cell_type": "code",
   "execution_count": null,
   "metadata": {
    "collapsed": true
   },
   "outputs": [],
   "source": [
    "engine.table_names() # returns list of tables\n"
   ]
  },
  {
   "cell_type": "code",
   "execution_count": null,
   "metadata": {
    "collapsed": true
   },
   "outputs": [],
   "source": [
    "### Reflection "
   ]
  },
  {
   "cell_type": "code",
   "execution_count": null,
   "metadata": {
    "collapsed": true
   },
   "outputs": [],
   "source": [
    "from sqlalchemy import MetaData, Table\n",
    "\n",
    "metadata = MetaData() # stores DB info \n",
    "\n",
    "census = Table('census', metadata, autoload=True, autoloud_with=engine)\n",
    "\n",
    "repr(census) # tells us columns and types"
   ]
  }
 ],
 "metadata": {
  "kernelspec": {
   "display_name": "Python 3",
   "language": "python",
   "name": "python3"
  },
  "language_info": {
   "codemirror_mode": {
    "name": "ipython",
    "version": 3
   },
   "file_extension": ".py",
   "mimetype": "text/x-python",
   "name": "python",
   "nbconvert_exporter": "python",
   "pygments_lexer": "ipython3",
   "version": "3.6.1"
  }
 },
 "nbformat": 4,
 "nbformat_minor": 2
}
