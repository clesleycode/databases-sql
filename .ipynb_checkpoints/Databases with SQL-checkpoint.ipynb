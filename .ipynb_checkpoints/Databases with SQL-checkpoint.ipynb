{
 "cells": [
  {
   "cell_type": "markdown",
   "metadata": {},
   "source": [
    "## Background\n",
    "\n",
    "### What is a database?\n",
    "\n",
    "#### What is a relational database?\n",
    "\n",
    " A relational database is a database that organizes information into one or more tables. \n",
    "\n",
    "#### What is a table? \n",
    "\n",
    "A table is a collection of data organized into rows and columns. Tables are sometimes referred to as relations.\n",
    "\n",
    "\n",
    "### What is a clause?\n",
    "\n",
    "Clauses perform specific tasks in SQL. By convention, clauses are written in capital letters. Clauses can also be referred to as commands.\n",
    "\n",
    "### What is a schema?\n"
   ]
  },
  {
   "cell_type": "markdown",
   "metadata": {},
   "source": [
    "## SQL\n",
    "\n",
    "\n",
    "### What is SQL? \n",
    "\n",
    "\n",
    "### Building a Database\n",
    "\n",
    "The structure of SQL statements vary. The number of lines used do not matter. A statement can be written all on one line, or split up across multiple lines if it makes it easier to read. In this course, you will become familiar with the structure of common statements."
   ]
  },
  {
   "cell_type": "markdown",
   "metadata": {},
   "source": [
    "``` SQL\n",
    "CREATE TABLE table_name (\n",
    "    column_1 data_type, \n",
    "    column_2 data_type, \n",
    "    column_3 data_type\n",
    "  );\n",
    "```"
   ]
  },
  {
   "cell_type": "markdown",
   "metadata": {},
   "source": [
    "### Inserting\n",
    "\n",
    "`INSERT INTO` is a clause that adds the specified row or rows. "
   ]
  },
  {
   "cell_type": "markdown",
   "metadata": {},
   "source": [
    "``` SQL\n",
    "INSERT INTO table (id, name, age) VALUES (1, 'Lesley Cordero', 25);\n",
    "```"
   ]
  },
  {
   "cell_type": "markdown",
   "metadata": {},
   "source": [
    "### Selecting\n",
    "\n",
    "``` SQL\n",
    "SELECT * FROM celebs;\n",
    "```\n",
    "`SELECT` statements are used to fetch data from a database. `SELECT` is a clause that indicates that the statement is a query. You will use `SELECT` every time you query data from a database. `SELECT` statements always return a new table called the result set. We can also rename the columns we want to show with `AS`.\n",
    "\n",
    "`*` is a special wildcard character that we have been using. It allows you to select every column in a table without having to name each one individually. Here, the result set contains every column in the celebs table.\n"
   ]
  },
  {
   "cell_type": "markdown",
   "metadata": {},
   "source": [
    "### Updating\n",
    "\n",
    "The `UPDATE` statement edits a row in the table. You can use the UPDATE statement when you want to change existing records. `SET` is a clause that indicates the column to edit. WHERE is a clause that indicates which row(s) to update with the new column value.\n",
    "\n",
    "The `ALTER TABLE` statement added a new column to the table. You can use this command when you want to add columns to a table. `ADD COLUMN` is a clause that lets you add a new column to a table. \n",
    "\n",
    "### Deleting\n",
    "\n",
    "The `DELETE` FROM statement deletes one or more rows from a table. You can use the statement when you want to delete existing records.\n",
    "\n",
    "### Null\n",
    "\n",
    "`NULL` is a special value in SQL that represents missing or unknown data. Here, the rows that existed before the column was added have NULL values for twitter_handle\n",
    "\n",
    "### Aggregations\n",
    "\n",
    "Aggregations are used to convert many rows into a single row. Almost all aggregations come with the `GROUP BY` statement, which converts the table otherwise returned by the query into groups of tables. Each group corresponds to a unique value (or group of values) of columns which we specify in the GROUP BY statement.\n",
    "\n",
    "### Subqueries \n",
    "\n",
    "Subqueries are regular SQL queries that are embedded inside larger queries. There are 3 different types of subqueries, based on what they return -\n",
    "\n",
    "\n",
    "#### 2D Table \n",
    "\n",
    "#### 1D Array\n",
    "\n",
    "#### Single Values"
   ]
  },
  {
   "cell_type": "markdown",
   "metadata": {},
   "source": [
    "### Foriegn Keys\n",
    "\n",
    "Foreign Keys are a fundamental component of SQL that allows us to reference one table from another. Foreign Keys are stored as an additional column and is usually entered in the child table and will reference the parent table.\n"
   ]
  },
  {
   "cell_type": "markdown",
   "metadata": {},
   "source": []
  },
  {
   "cell_type": "code",
   "execution_count": null,
   "metadata": {
    "collapsed": true
   },
   "outputs": [],
   "source": []
  }
 ],
 "metadata": {
  "kernelspec": {
   "display_name": "Python 3",
   "language": "python",
   "name": "python3"
  },
  "language_info": {
   "codemirror_mode": {
    "name": "ipython",
    "version": 3
   },
   "file_extension": ".py",
   "mimetype": "text/x-python",
   "name": "python",
   "nbconvert_exporter": "python",
   "pygments_lexer": "ipython3",
   "version": "3.6.1"
  }
 },
 "nbformat": 4,
 "nbformat_minor": 2
}
